{
 "cells": [
  {
   "cell_type": "code",
   "execution_count": 5,
   "metadata": {},
   "outputs": [],
   "source": [
    "import numpy as np\n",
    "import pandas as pd\n",
    "import geopandas as gpd\n",
    "import matplotlib.pyplot as plt\n",
    "import os, datetime"
   ]
  },
  {
   "cell_type": "markdown",
   "metadata": {},
   "source": [
    "## Script Objective\n",
    " - Read in files determining which wells will represent which groups in a given scenario & what fraction of the total group volume they will use\n",
    " - Proportionally distribute injection or extraction volumes amongst wells specified as active for a given scenario\n",
    " "
   ]
  },
  {
   "cell_type": "markdown",
   "metadata": {},
   "source": [
    "### Well Groups\n",
    "There are 5 wells groups that are assigned different volumes of extraction or injection.\n",
    "1. LVL Well: Injection\n",
    "2. Alamitos Barrier: Injection\n",
    "3. New Well Field: Injection for LB ATW\n",
    "4. New Well Field: Injection for LC ATW\n",
    "5. Wasted to SGR/Available Addtl AW flows: Injection\n",
    "<br>\n",
    "There needs to be Extraction linked to wherever there is injection that counts towards augmentation"
   ]
  },
  {
   "cell_type": "code",
   "execution_count": 2,
   "metadata": {},
   "outputs": [],
   "source": [
    "scenario = 'test'"
   ]
  },
  {
   "cell_type": "code",
   "execution_count": 19,
   "metadata": {},
   "outputs": [],
   "source": [
    "fraction_data = pd.read_excel('input/scenario_inputs.xlsx', sheet_name='Fraction_Active_Data')\n",
    "new_CLNs = fraction_data.CLN.drop_duplicates().values\n",
    "new_CLNs = np.delete(new_CLNs,new_CLNs==\"alamitos\")"
   ]
  },
  {
   "cell_type": "code",
   "execution_count": 22,
   "metadata": {},
   "outputs": [
    {
     "data": {
      "text/plain": [
       "array([1793], dtype=object)"
      ]
     },
     "execution_count": 22,
     "metadata": {},
     "output_type": "execute_result"
    }
   ],
   "source": [
    "\n"
   ]
  },
  {
   "cell_type": "code",
   "execution_count": 4,
   "metadata": {},
   "outputs": [
    {
     "data": {
      "text/html": [
       "<div>\n",
       "<style scoped>\n",
       "    .dataframe tbody tr th:only-of-type {\n",
       "        vertical-align: middle;\n",
       "    }\n",
       "\n",
       "    .dataframe tbody tr th {\n",
       "        vertical-align: top;\n",
       "    }\n",
       "\n",
       "    .dataframe thead th {\n",
       "        text-align: right;\n",
       "    }\n",
       "</style>\n",
       "<table border=\"1\" class=\"dataframe\">\n",
       "  <thead>\n",
       "    <tr style=\"text-align: right;\">\n",
       "      <th></th>\n",
       "      <th>CLN</th>\n",
       "      <th>name</th>\n",
       "      <th>group</th>\n",
       "      <th>type</th>\n",
       "      <th>fraction</th>\n",
       "    </tr>\n",
       "  </thead>\n",
       "  <tbody>\n",
       "    <tr>\n",
       "      <th>0</th>\n",
       "      <td>1793</td>\n",
       "      <td>CB-SW-1</td>\n",
       "      <td>LVL</td>\n",
       "      <td>Injection</td>\n",
       "      <td>1</td>\n",
       "    </tr>\n",
       "  </tbody>\n",
       "</table>\n",
       "</div>"
      ],
      "text/plain": [
       "    CLN     name group       type  fraction\n",
       "0  1793  CB-SW-1   LVL  Injection         1"
      ]
     },
     "execution_count": 4,
     "metadata": {},
     "output_type": "execute_result"
    }
   ],
   "source": [
    "if fraction_data.loc[\"alamitos\"] > 0:\n",
    "    alamitos_extra_inj = True"
   ]
  },
  {
   "cell_type": "code",
   "execution_count": 9,
   "metadata": {},
   "outputs": [],
   "source": [
    "USGS_wells = gpd.read_file(\"S:/LAX/JACOBS.C001.CNSLT/GIS/Task3_USGmodeling/shp/2_lab_ug.cln_Item8_GWnodes_WellGroups.shp\")\n",
    "alamitos_wells = USGS_wells[USGS_wells.group=='Alamitos Barrier_Injection']"
   ]
  },
  {
   "cell_type": "code",
   "execution_count": 17,
   "metadata": {},
   "outputs": [],
   "source": [
    "alamitos_CLN = alamitos_wells.IFNOD.drop_duplicates().values\n",
    "alamitos_df = pd.DataFrame(1, index = alamitos_CLN, columns=[\"default\"])"
   ]
  },
  {
   "cell_type": "code",
   "execution_count": 16,
   "metadata": {},
   "outputs": [
    {
     "ename": "NameError",
     "evalue": "name 'new_CLN' is not defined",
     "output_type": "error",
     "traceback": [
      "\u001b[1;31m---------------------------------------------------------------------------\u001b[0m",
      "\u001b[1;31mNameError\u001b[0m                                 Traceback (most recent call last)",
      "\u001b[1;32m<ipython-input-16-6697a2bd720f>\u001b[0m in \u001b[0;36m<module>\u001b[1;34m\u001b[0m\n\u001b[0;32m      1\u001b[0m \u001b[0mbase_WEL\u001b[0m \u001b[1;33m=\u001b[0m \u001b[0mopen\u001b[0m\u001b[1;33m(\u001b[0m\u001b[1;34m\"S:/LAX/DUDEK.C001.SMBGSA/INTERA models/UpdatedModel/ModelWithNewExe/input/lab_ug_Corrected_Updated.wel\"\u001b[0m\u001b[1;33m,\u001b[0m \u001b[1;34m\"r\"\u001b[0m\u001b[1;33m)\u001b[0m\u001b[1;33m\u001b[0m\u001b[1;33m\u001b[0m\u001b[0m\n\u001b[0;32m      2\u001b[0m \u001b[0mnew_WEL\u001b[0m  \u001b[1;33m=\u001b[0m \u001b[0mopen\u001b[0m\u001b[1;33m(\u001b[0m\u001b[1;34m\"S:/LAX/JACOBS.C001.CNSLT/Phase-2/LVL/4000.MODELS/test/lab_ug_test.wel\"\u001b[0m\u001b[1;33m,\u001b[0m \u001b[1;34m\"w\"\u001b[0m\u001b[1;33m)\u001b[0m\u001b[1;33m\u001b[0m\u001b[1;33m\u001b[0m\u001b[0m\n\u001b[1;32m----> 3\u001b[1;33m \u001b[0mnew_CLN\u001b[0m\u001b[1;33m.\u001b[0m\u001b[0mwrite\u001b[0m\u001b[1;33m(\u001b[0m\u001b[0mbase_CLN\u001b[0m\u001b[1;33m.\u001b[0m\u001b[0mreadline\u001b[0m\u001b[1;33m(\u001b[0m\u001b[1;33m)\u001b[0m\u001b[1;33m)\u001b[0m\u001b[1;33m\u001b[0m\u001b[1;33m\u001b[0m\u001b[0m\n\u001b[0m",
      "\u001b[1;31mNameError\u001b[0m: name 'new_CLN' is not defined"
     ]
    }
   ],
   "source": [
    "base_WEL = open(\"S:/LAX/DUDEK.C001.SMBGSA/INTERA models/UpdatedModel/ModelWithNewExe/input/lab_ug_Corrected_Updated.wel\", \"r\")\n",
    "new_WEL  = open(\"S:/LAX/JACOBS.C001.CNSLT/Phase-2/LVL/4000.MODELS/test/lab_ug_test.wel\", \"w\")\n",
    "new_WEL.write(base_CLN.readline())"
   ]
  },
  {
   "cell_type": "code",
   "execution_count": null,
   "metadata": {},
   "outputs": [],
   "source": [
    "# need to run through this one time to get total Alamitos volumes for baseline\n",
    "# goal is to have dataframe of each group's fluxes by stress period\n",
    "for sp in range(1,181):\n",
    "    SPHeader = base_CLN.readline()\n",
    "    ITMP, NP, ITMPCLN = int(SPHeader.split()[0]), int(SPHeader.split()[1]), int(SPHeader.split()[2])\n",
    "    if sp<61:\n",
    "        new_WEL.write(SPHeader)\n",
    "        for u in range(ITMP + ITMPCLN):\n",
    "            new_WEL.write(base_CLN.readline())\n",
    "    else:\n",
    "        \n",
    "        new_ITMPCLN = ITMPCLN + len(new_CLNs)\n",
    "        new_WEL.write(\"%d %d %d  #Stress Period %d\\n\" % (ITMP, NP, new_ITMPCLN, sp))\n",
    "        for u in range(ITMP):\n",
    "            new_CLN.write(base_CLN.readline())\n",
    "        for c in range(ITMPCLN):\n",
    "            CLN_row = base_CLN.readline()\n",
    "            CLN_No = int(CLN_row.split()[0])\n",
    "            flux = float(CLN_row.split()[1])\n",
    "            alamitos_df[\"SP%d_flux\"%sp] = 0\n",
    "            if CLN_No in alamitos_CLN and alamitos_extra_inj:\n",
    "                alamitos_df.loc[CLN_No,\"SP%d_flux\"%sp] = flux\n",
    "                Extra_alamitos_vol = scenario_fluxes.loc[sp,\"Scenario%d\"%scenario]\n",
    "            else:\n",
    "                new_WEL.write(CLN_row)"
   ]
  }
 ],
 "metadata": {
  "kernelspec": {
   "display_name": "Python 3",
   "language": "python",
   "name": "python3"
  },
  "language_info": {
   "codemirror_mode": {
    "name": "ipython",
    "version": 3
   },
   "file_extension": ".py",
   "mimetype": "text/x-python",
   "name": "python",
   "nbconvert_exporter": "python",
   "pygments_lexer": "ipython3",
   "version": "3.7.10"
  }
 },
 "nbformat": 4,
 "nbformat_minor": 4
}

{
 "cells": [
  {
   "cell_type": "code",
   "execution_count": 1,
   "metadata": {
    "ExecuteTime": {
     "end_time": "2021-08-12T17:49:50.972916Z",
     "start_time": "2021-08-12T17:49:50.078825Z"
    }
   },
   "outputs": [],
   "source": [
    "import numpy as np\n",
    "import pandas as pd\n",
    "import matplotlib.pyplot as plt\n",
    "import os, datetime"
   ]
  },
  {
   "cell_type": "markdown",
   "metadata": {},
   "source": [
    "## Script Objectives\n",
    " - Read in baseline CLN file\n",
    " - Read in data regarding CLN's we want to add\n",
    " - Add CLN's to baseline CLN file\n",
    " - Activate CLN's in IBOUND sections where appropriate\n",
    " - Edit IBOUND & STRT for CLN files to account for additional CLN's being included to this particular model simulation"
   ]
  },
  {
   "cell_type": "markdown",
   "metadata": {},
   "source": [
    "### Sections of CLN input\n",
    "Sublists are parameters that need to be updated when a new CLN file is written\n",
    "\n",
    "1. NCLN ICLNNDS ICLNCB ICLNHD ICLNDD ICLNIB NCLNGWC NCONDUITYP\n",
    "    1. NCLN: number of CLN segments\n",
    "    2. ICLNNDS: flag that is set to negative NCLN\n",
    "    3. NCLNGWC: number of GW node connections\n",
    "   \n",
    "   \n",
    "   \n",
    "2. IFNO IFTYP IFDIR FLENG FELEV FANGLE IFLIN ICCWADI\n",
    "    a line for each need to be added for every new CLN\n",
    "    1. FLENG: length of CLN node (sum of thicknesses)\n",
    "    2. FELEV: bottom elevation of CLN node \n",
    "    \n",
    "    \n",
    "    \n",
    "3. IFNOD IGWNOD IFCON FSKIN FLENGW FANISO ICGWADI\n",
    "    for every new CLN\n",
    "    1. IFNOD: CLN number\n",
    "    2. IGWNOD: GW node number CLN is connected to\n",
    "    3. IFCON: [1] -> Thiem equation used to provide connection betweeen CLN node & GW node, with skin effects\n",
    "    4. IFSKIN: [16000] skin factor \n",
    "    5. FLENGW: length of CLN segment connected to cell (thickness of that layer/cell)\n",
    "    6. FANISO: [1] used in computation of leakance\n",
    "    7. ICGWADI [0] cell is treated without vertical flow correction\n",
    "    "
   ]
  },
  {
   "cell_type": "code",
   "execution_count": 2,
   "metadata": {
    "ExecuteTime": {
     "end_time": "2021-08-12T17:49:50.988389Z",
     "start_time": "2021-08-12T17:49:50.972916Z"
    }
   },
   "outputs": [],
   "source": [
    "scenario = 'test'"
   ]
  },
  {
   "cell_type": "code",
   "execution_count": 3,
   "metadata": {
    "ExecuteTime": {
     "end_time": "2021-08-12T17:49:52.797246Z",
     "start_time": "2021-08-12T17:49:50.990426Z"
    }
   },
   "outputs": [
    {
     "name": "stdout",
     "output_type": "stream",
     "text": [
      "[1793 1794 1795]\n"
     ]
    },
    {
     "name": "stderr",
     "output_type": "stream",
     "text": [
      "C:\\Miniconda3\\envs\\geo_py37\\lib\\site-packages\\openpyxl\\worksheet\\_reader.py:312: UserWarning: Unknown extension is not supported and will be removed\n",
      "  warn(msg)\n",
      "C:\\Miniconda3\\envs\\geo_py37\\lib\\site-packages\\openpyxl\\worksheet\\_reader.py:312: UserWarning: Conditional Formatting extension is not supported and will be removed\n",
      "  warn(msg)\n"
     ]
    }
   ],
   "source": [
    "CLN_data = pd.read_excel('input/scenario_inputs.xlsx', sheet_name='CLN_Data', index_col='CLN')\n",
    "fraction_data = pd.read_excel('input/scenario_inputs.xlsx', sheet_name='Fraction_Active_Data')\n",
    "new_CLN_data = CLN_data[CLN_data.screen=='s']\n",
    "new_CLNs = new_CLN_data.index.drop_duplicates().values\n",
    "print(new_CLNs)"
   ]
  },
  {
   "cell_type": "code",
   "execution_count": 4,
   "metadata": {
    "ExecuteTime": {
     "end_time": "2021-08-12T17:49:52.828598Z",
     "start_time": "2021-08-12T17:49:52.797246Z"
    }
   },
   "outputs": [
    {
     "data": {
      "text/html": [
       "<div>\n",
       "<style scoped>\n",
       "    .dataframe tbody tr th:only-of-type {\n",
       "        vertical-align: middle;\n",
       "    }\n",
       "\n",
       "    .dataframe tbody tr th {\n",
       "        vertical-align: top;\n",
       "    }\n",
       "\n",
       "    .dataframe thead th {\n",
       "        text-align: right;\n",
       "    }\n",
       "</style>\n",
       "<table border=\"1\" class=\"dataframe\">\n",
       "  <thead>\n",
       "    <tr style=\"text-align: right;\">\n",
       "      <th></th>\n",
       "      <th>CLN</th>\n",
       "      <th>name</th>\n",
       "      <th>group</th>\n",
       "      <th>type</th>\n",
       "      <th>fraction</th>\n",
       "    </tr>\n",
       "  </thead>\n",
       "  <tbody>\n",
       "    <tr>\n",
       "      <th>0</th>\n",
       "      <td>alamitos</td>\n",
       "      <td>alamitos</td>\n",
       "      <td>Alamitos Barrier</td>\n",
       "      <td>Injection</td>\n",
       "      <td>1.00</td>\n",
       "    </tr>\n",
       "    <tr>\n",
       "      <th>1</th>\n",
       "      <td>1793</td>\n",
       "      <td>CB-SW-1</td>\n",
       "      <td>LVL</td>\n",
       "      <td>Injection</td>\n",
       "      <td>0.33</td>\n",
       "    </tr>\n",
       "    <tr>\n",
       "      <th>2</th>\n",
       "      <td>1794</td>\n",
       "      <td>CB-SW-2</td>\n",
       "      <td>LVL</td>\n",
       "      <td>Injection</td>\n",
       "      <td>0.33</td>\n",
       "    </tr>\n",
       "    <tr>\n",
       "      <th>3</th>\n",
       "      <td>1795</td>\n",
       "      <td>CB-SW-3</td>\n",
       "      <td>LVL</td>\n",
       "      <td>Injection</td>\n",
       "      <td>0.34</td>\n",
       "    </tr>\n",
       "  </tbody>\n",
       "</table>\n",
       "</div>"
      ],
      "text/plain": [
       "        CLN      name             group       type  fraction\n",
       "0  alamitos  alamitos  Alamitos Barrier  Injection      1.00\n",
       "1      1793   CB-SW-1               LVL  Injection      0.33\n",
       "2      1794   CB-SW-2               LVL  Injection      0.33\n",
       "3      1795   CB-SW-3               LVL  Injection      0.34"
      ]
     },
     "execution_count": 4,
     "metadata": {},
     "output_type": "execute_result"
    }
   ],
   "source": [
    "fraction_data"
   ]
  },
  {
   "cell_type": "markdown",
   "metadata": {},
   "source": [
    "### Read and open CLN files to start writing: establish initial data group 1 parameters"
   ]
  },
  {
   "cell_type": "code",
   "execution_count": 5,
   "metadata": {
    "ExecuteTime": {
     "end_time": "2021-08-12T17:49:53.254306Z",
     "start_time": "2021-08-12T17:49:52.828598Z"
    }
   },
   "outputs": [
    {
     "data": {
      "text/plain": [
       "54"
      ]
     },
     "execution_count": 5,
     "metadata": {},
     "output_type": "execute_result"
    }
   ],
   "source": [
    "base_CLN = open(\"S:/LAX/DUDEK.C001.SMBGSA/INTERA models/UpdatedModel/ModelWithNewExe/input/lab_ug_Updated.cln\", \"r\")\n",
    "new_CLN  = open(\"S:/LAX/JACOBS.C001.CNSLT/Phase-2/LVL/4000.MODELS/test/lab_ug_test.cln\", \"w\")\n",
    "new_CLN.write(base_CLN.readline())\n",
    "second_line = base_CLN.readline().split()\n",
    "base_NCLN, base_NCLNGWC = int(second_line[0]), int(second_line[6])\n",
    "NCONDUITYP = int(second_line[7])\n",
    "new_NCLN = base_NCLN + len(new_CLNs)\n",
    "new_NCLNGWC = base_NCLNGWC + len(new_CLN_data)\n",
    "new_CLN.write(\"%d %d 4 199 0 8 %d 11\\n\" % (new_NCLN, -new_NCLN, new_NCLNGWC))\n",
    "new_CLN.write(base_CLN.readline())"
   ]
  },
  {
   "cell_type": "markdown",
   "metadata": {},
   "source": [
    "### Write data for data group 2 and write additional lines for new CLN's\n",
    "\n"
   ]
  },
  {
   "cell_type": "code",
   "execution_count": 6,
   "metadata": {
    "ExecuteTime": {
     "end_time": "2021-08-12T17:49:53.360251Z",
     "start_time": "2021-08-12T17:49:53.254306Z"
    }
   },
   "outputs": [
    {
     "name": "stdout",
     "output_type": "stream",
     "text": [
      "1793 7 0 1316.75 -1491.82 0 0 0 # CLN\n",
      "1793    CB-SW-1\n",
      "1793    CB-SW-1\n",
      "1793    CB-SW-1\n",
      "1793    CB-SW-1\n",
      "1793    CB-SW-1\n",
      "Name: name, dtype: object\n",
      "\n",
      "1794 7 0 1259.57 -1438.61 0 0 0 # CLN\n",
      "1794    CB-SW-2\n",
      "1794    CB-SW-2\n",
      "1794    CB-SW-2\n",
      "1794    CB-SW-2\n",
      "1794    CB-SW-2\n",
      "Name: name, dtype: object\n",
      "\n",
      "1795 7 0 1404.48 -1591.04 0 0 0 # CLN\n",
      "1795    CB-SW-3\n",
      "1795    CB-SW-3\n",
      "1795    CB-SW-3\n",
      "1795    CB-SW-3\n",
      "1795    CB-SW-3\n",
      "1795    CB-SW-3\n",
      "Name: name, dtype: object\n",
      "\n"
     ]
    }
   ],
   "source": [
    "for n in range(base_NCLN):\n",
    "    new_CLN.write(base_CLN.readline()) #write for all existing CLN's\n",
    "\n",
    "for n in new_CLNs: #for additional CLN's\n",
    "    FLENG = new_CLN_data.loc[n, \"thk\"].sum()\n",
    "    FELEV = (new_CLN_data.loc[n, \"surface_elevation\"].drop_duplicates() - new_CLN_data.loc[n,\"botm_depth\"].max()).values[0]\n",
    "    well_name = new_CLN_data.loc[n,\"name\"]\n",
    "    new_CLN.write(\n",
    "            \"%d %d %d %.2lf %.2lf 0 0 0 # %s\\n\" % (n, 7, 0, FLENG, FELEV, well_name))\n",
    "    print(\"%d %d %d %.2lf %.2lf 0 0 0 # %s\\n\" % (n, 7, 0, FLENG, FELEV, well_name))"
   ]
  },
  {
   "cell_type": "code",
   "execution_count": 16,
   "metadata": {
    "ExecuteTime": {
     "end_time": "2021-08-12T17:51:40.363218Z",
     "start_time": "2021-08-12T17:51:40.344889Z"
    }
   },
   "outputs": [
    {
     "data": {
      "text/plain": [
       "'CB-SW-3'"
      ]
     },
     "execution_count": 16,
     "metadata": {},
     "output_type": "execute_result"
    }
   ],
   "source": [
    "well_name\n",
    "\n",
    "\n"
   ]
  },
  {
   "cell_type": "markdown",
   "metadata": {},
   "source": [
    "### Write data for data group 3 regading GW node connections"
   ]
  },
  {
   "cell_type": "code",
   "execution_count": 8,
   "metadata": {
    "ExecuteTime": {
     "end_time": "2021-08-12T17:49:53.563402Z",
     "start_time": "2021-08-12T17:49:53.414734Z"
    }
   },
   "outputs": [],
   "source": [
    "for n in range(base_NCLNGWC):\n",
    "    new_CLN.write(base_CLN.readline()) #write for all existing CLN's\n",
    "    \n",
    "for n in new_CLNs: \n",
    "    well_name = new_CLN_data.loc[n,\"name\"].drop_duplicates().values[0]\n",
    "    temp_df = CLN_data.loc[n]\n",
    "    for node in temp_df.NodeNo:\n",
    "        FLENGW = temp_df[temp_df.NodeNo == node].thk.values\n",
    "        new_CLN.write(\n",
    "                \"%d %d 1 %.2lf %.2lf 1 0 # %s\\n\" % (n, node, 16000, FLENGW, well_name))"
   ]
  },
  {
   "cell_type": "markdown",
   "metadata": {},
   "source": [
    "#### Write data for conduits"
   ]
  },
  {
   "cell_type": "code",
   "execution_count": 9,
   "metadata": {
    "ExecuteTime": {
     "end_time": "2021-08-12T17:49:53.594244Z",
     "start_time": "2021-08-12T17:49:53.563402Z"
    }
   },
   "outputs": [],
   "source": [
    "for c in range(NCONDUITYP):\n",
    "    new_CLN.write(base_CLN.readline())"
   ]
  },
  {
   "cell_type": "markdown",
   "metadata": {},
   "source": [
    "## IBOUND and STRT data\n",
    " - Open and read ibound and strt files and add lines for new CLN's\n",
    " - In \".cln\" file, make sure to activate CLN in appropriate Stress Period\n",
    " \n",
    " We will assume that the wells will become active the same time as for the Hyperion project, Stress Period 61 (15 years into the model in 1986).\n"
   ]
  },
  {
   "cell_type": "markdown",
   "metadata": {},
   "source": [
    "#### First, read in existing txt files"
   ]
  },
  {
   "cell_type": "code",
   "execution_count": 10,
   "metadata": {
    "ExecuteTime": {
     "end_time": "2021-08-12T17:49:53.703351Z",
     "start_time": "2021-08-12T17:49:53.596243Z"
    }
   },
   "outputs": [],
   "source": [
    "#Read in all IBOUND values and set to list to use subsequently for writing new IBOUND file\n",
    "with open(r\"S:/LAX/DUDEK.C001.SMBGSA/INTERA models/UpdatedModel/ModelWithNewExe/input/Arrays/CLN_IBOUND.txt\") as f:\n",
    "    a = f.read().splitlines()\n",
    "ibound = list()\n",
    "for i in range(len(a)):\n",
    "    temp = a[i].split()\n",
    "    for j in temp:\n",
    "        ibound.append(j)"
   ]
  },
  {
   "cell_type": "code",
   "execution_count": 11,
   "metadata": {
    "ExecuteTime": {
     "end_time": "2021-08-12T17:49:53.796346Z",
     "start_time": "2021-08-12T17:49:53.703351Z"
    }
   },
   "outputs": [],
   "source": [
    "base_STRT = open(\"S:/LAX/DUDEK.C001.SMBGSA/INTERA models/UpdatedModel/ModelWithNewExe/input/Arrays/CLN_StartingHead.txt\", \n",
    "                  \"r\")\n",
    "new_IBOUND = open(\"S:/LAX/JACOBS.C001.CNSLT/Phase-2/LVL/4000.MODELS/test/CLN_IBOUND_test.IBOUND\",\n",
    "                  \"w\")\n",
    "new_STRT = open(\"S:/LAX/JACOBS.C001.CNSLT/Phase-2/LVL/4000.MODELS/test/CLN_STRT_test.STRT\",\n",
    "                  \"w\")"
   ]
  },
  {
   "cell_type": "code",
   "execution_count": 12,
   "metadata": {
    "ExecuteTime": {
     "end_time": "2021-08-12T17:49:53.906680Z",
     "start_time": "2021-08-12T17:49:53.798340Z"
    }
   },
   "outputs": [],
   "source": [
    "#actually writing data to new CLN IBOUND & STRT files\n",
    "for n in range(base_NCLN):\n",
    "    new_IBOUND.write(str(ibound[n])+\"\\n\")\n",
    "    new_STRT.write(base_STRT.readline())\n",
    "new_STRT.write(\"\\n\")\n",
    "for n in new_CLNs:\n",
    "    new_IBOUND.write(\"0\\n\") #write all new CLN's as inactive to start so they will be activated when we want\n",
    "    new_STRT.write(\"%d\\n\"%new_CLN_data.loc[n,\"starting_head\"].drop_duplicates().values)"
   ]
  },
  {
   "cell_type": "markdown",
   "metadata": {},
   "source": [
    "#### Write in CLN file where to read updated starting conditions data"
   ]
  },
  {
   "cell_type": "code",
   "execution_count": 13,
   "metadata": {
    "ExecuteTime": {
     "end_time": "2021-08-12T17:49:54.016469Z",
     "start_time": "2021-08-12T17:49:53.908680Z"
    }
   },
   "outputs": [
    {
     "data": {
      "text/plain": [
       "42"
      ]
     },
     "execution_count": 13,
     "metadata": {},
     "output_type": "execute_result"
    }
   ],
   "source": [
    "base_CLN.readline() #need to read these two lines to progress\n",
    "base_CLN.readline()\n",
    "new_CLN.write(\"OPEN/CLOSE CLN_IBOUND_test.IBOUND 1 (FREE) -1\\n\")\n",
    "new_CLN.write(\"OPEN/CLOSE CLN_STRT_test.STRT 1 (FREE) -1\\n\")"
   ]
  },
  {
   "cell_type": "markdown",
   "metadata": {},
   "source": [
    "## Copy lines for each Stress Period the IBOUND & STRT\n",
    "#### At Stress Period 61, write lines for new CLN's in this scenario"
   ]
  },
  {
   "cell_type": "code",
   "execution_count": 14,
   "metadata": {
    "ExecuteTime": {
     "end_time": "2021-08-12T17:49:54.109935Z",
     "start_time": "2021-08-12T17:49:54.016469Z"
    }
   },
   "outputs": [],
   "source": [
    "for sp in range(1, 181):\n",
    "    SPHeader = base_CLN.readline()\n",
    "    NIB0, NIB1, NIBM1 = int(SPHeader.split()[0]), int(SPHeader.split()[1]), int(SPHeader.split()[2])\n",
    "    if sp != 61:\n",
    "        new_CLN.write(SPHeader)\n",
    "        for j in range(NIB0 + NIB1 + NIBM1):\n",
    "            new_CLN.write(base_CLN.readline())\n",
    "    else:\n",
    "        new_NIB1 = NIB1 + len(new_CLNs)\n",
    "        new_CLN.write(\"%d %d %d  #Stress Period %d\\n\" % (NIB0, new_NIB1, NIBM1, sp))\n",
    "        for j in range(NIB0 + NIB1 + NIBM1):\n",
    "            new_CLN.write(base_CLN.readline())\n",
    "        #new_CLN.write(\"internal 1 (FREE) 1\\n\")\n",
    "        for n in new_CLNs:\n",
    "            starting_head = new_CLN_data.loc[n,\"starting_head\"].drop_duplicates().values[0]\n",
    "            new_CLN.write(\"%d HEAD %.2lf\\n\" % (n, starting_head))\n",
    "\n",
    "            \n",
    "           "
   ]
  },
  {
   "cell_type": "markdown",
   "metadata": {},
   "source": [
    "### Close files for writing completion"
   ]
  },
  {
   "cell_type": "code",
   "execution_count": 15,
   "metadata": {
    "ExecuteTime": {
     "end_time": "2021-08-12T17:49:54.360187Z",
     "start_time": "2021-08-12T17:49:54.109935Z"
    }
   },
   "outputs": [],
   "source": [
    "new_CLN.close()\n",
    "new_IBOUND.close()\n",
    "new_STRT.close()"
   ]
  },
  {
   "cell_type": "code",
   "execution_count": null,
   "metadata": {},
   "outputs": [],
   "source": []
  }
 ],
 "metadata": {
  "kernelspec": {
   "display_name": "Python 3",
   "language": "python",
   "name": "python3"
  },
  "language_info": {
   "codemirror_mode": {
    "name": "ipython",
    "version": 3
   },
   "file_extension": ".py",
   "mimetype": "text/x-python",
   "name": "python",
   "nbconvert_exporter": "python",
   "pygments_lexer": "ipython3",
   "version": "3.7.10"
  }
 },
 "nbformat": 4,
 "nbformat_minor": 4
}
